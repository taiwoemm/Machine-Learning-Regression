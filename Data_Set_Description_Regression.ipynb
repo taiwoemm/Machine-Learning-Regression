{
 "cells": [
  {
   "cell_type": "markdown",
   "id": "9977e984-834a-46f6-acbd-9d8b6ce7b673",
   "metadata": {},
   "source": [
    "## Regression\n",
    "The Regression dataset contains information related to traffic accidents. Here's an explanation of each column:\n",
    "\n",
    "1. Crash ID: A unique identifier for each accident.\n",
    "2. Crash Severity: The severity level of the accident. \n",
    "3. Crash Time: The time when the accident occurred.\n",
    "4. Day of Week: The day of the week when the accident happened.\n",
    "5. Manner of Collision: How the collision occurred.\n",
    "6. Speed Limit: The speed limit of the road where the accident occurred.\n",
    "7. Surface Condition: The condition of the road surface.\n",
    "8. Surface Type: The type of road surface.\n",
    "9. Surface Width: The width of the road.\n",
    "10. Weather Condition: The weather conditions at the time of the accident.\n",
    "11. Vehicle Body Style: The body style of the involved vehicles.\n",
    "12. Person Age: The age of individuals involved in the accident.\n",
    "13. Person Alcohol Result: Whether alcohol was involved in the accident for individuals.\n",
    "14. Person Drug Test Result: Whether drug tests were conducted for individuals involved.\n",
    "15. Person Ethnicity: The ethnicity of individuals involved.\n",
    "16. Person Gender: The gender of individuals involved.\n",
    "\n",
    "The main objective of this project is to create a model that can predict the amount of time (in minutes) it will take to clear an accident scene (referred to as the \"y\" value). The time taken to clear an accident scene plays a vital role in identifying the emergency response efficiency and managing traffic disruptions caused by accidents. The model will be developed using various features from the dataset, including crash severity, weather conditions, speed limits, and more, to make predictions about the clearance time. Machine learning techniques will be applied to construct this predictive model, and regression analysis will be used to predict which may be appropriate for predicting the continuous \"time scene cleared\" variable."
   ]
  }
 ],
 "metadata": {
  "kernelspec": {
   "display_name": "Python 3 (ipykernel)",
   "language": "python",
   "name": "python3"
  },
  "language_info": {
   "codemirror_mode": {
    "name": "ipython",
    "version": 3
   },
   "file_extension": ".py",
   "mimetype": "text/x-python",
   "name": "python",
   "nbconvert_exporter": "python",
   "pygments_lexer": "ipython3",
   "version": "3.11.2"
  }
 },
 "nbformat": 4,
 "nbformat_minor": 5
}
